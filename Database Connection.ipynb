{
 "cells": [
  {
   "cell_type": "code",
   "execution_count": 1,
   "metadata": {
    "collapsed": true
   },
   "outputs": [],
   "source": [
    "import MySQLdb\n",
    "import math\n",
    "import itertools\n",
    "import numpy as np\n",
    "import pickle\n",
    "from statsmodels import robust\n",
    "from sklearn import preprocessing\n",
    "from sklearn.preprocessing import StandardScaler\n",
    "from sklearn import neighbors\n",
    "from sklearn.ensemble import RandomForestClassifier\n",
    "import warnings\n",
    "warnings.filterwarnings('ignore')"
   ]
  },
  {
   "cell_type": "code",
   "execution_count": null,
   "metadata": {
    "collapsed": true
   },
   "outputs": [],
   "source": [
    "def generateFeatures(Temp):\n",
    "    f0=np.mean(Temp[:,0])\n",
    "    f1=np.mean(Temp[:,1])\n",
    "    f2=np.mean(Temp[:,2])\n",
    "    f3=np.std(Temp[:,0])\n",
    "    f4=np.std(Temp[:,1])\n",
    "    f5=np.std(Temp[:,2])\n",
    "    f6=np.var(Temp[:,0])\n",
    "    f7=np.var(Temp[:,1])\n",
    "    f8=np.var(Temp[:,2])\n",
    "    f9=robust.mad(Temp[:,0])\n",
    "    f10=robust.mad(Temp[:,1])\n",
    "    f11=robust.mad(Temp[:,2])\n",
    "    f12=abs(np.mean(Temp[:,0])-np.mean(Temp[:,1]))\n",
    "    f13=abs(np.mean(Temp[:,0])-np.mean(Temp[:,2]))\n",
    "    f14=abs(np.mean(Temp[:,1])-np.mean(Temp[:,2]))\n",
    "    return [f0,f1,f2,f3,f4,f5,f6,f7,f8,f9,f10,f11,f12,f13,f14]"
   ]
  },
  {
   "cell_type": "code",
   "execution_count": null,
   "metadata": {
    "collapsed": true
   },
   "outputs": [],
   "source": [
    "try:\n",
    "    db = MySQLdb.connect(host=\"localhost\",user=\"root\",passwd=\"pass\",db=\"human_activity_recognition\") \n",
    "except:\n",
    "    print \"I am unable to connect to the database\""
   ]
  },
  {
   "cell_type": "code",
   "execution_count": null,
   "metadata": {
    "collapsed": true
   },
   "outputs": [],
   "source": [
    "pickle_in=open('RF.pickle','rb')\n",
    "clf=pickle.load(pickle_in)"
   ]
  },
  {
   "cell_type": "code",
   "execution_count": null,
   "metadata": {
    "collapsed": true
   },
   "outputs": [],
   "source": [
    "cur = db.cursor()\n",
    "curIn = db.cursor()"
   ]
  },
  {
   "cell_type": "code",
   "execution_count": null,
   "metadata": {},
   "outputs": [],
   "source": [
    "cur.execute(\"SELECT * FROM testing_data WHERE label is NULL;\")"
   ]
  },
  {
   "cell_type": "code",
   "execution_count": null,
   "metadata": {},
   "outputs": [],
   "source": [
    "rows = cur.fetchall()\n",
    "testingData=np.empty((0,4),float)\n",
    "#print \"\\nShow me the databases:\\n\"\n",
    "for row in rows:\n",
    "    print \"   \",row[0], row[1], row[2], row[3], row[4]\n",
    "    testingData=np.vstack((testingData, [row[1], row[2], row[3], row[0]] ))\n",
    "    if len(testingData)==25:\n",
    "        pre=clf.predict(generateFeatures(testingData[:,0:3]))\n",
    "        \n",
    "        mylist = [(int(pre),i) for i in range(int(testingData[0,3]),int(testingData[-1,3])+1)]\n",
    "        #print(mylist)\n",
    "        print(pre)\n",
    "        \n",
    "        curIn.executemany('''UPDATE testing_data SET label = (%s) WHERE id = (%s);''', mylist)\n",
    "        testingData=np.empty((0,4),float)\n",
    "        \n",
    "    \n",
    "    "
   ]
  },
  {
   "cell_type": "code",
   "execution_count": null,
   "metadata": {
    "collapsed": true
   },
   "outputs": [],
   "source": [
    "db.commit()\n",
    "db.close()"
   ]
  },
  {
   "cell_type": "code",
   "execution_count": null,
   "metadata": {
    "collapsed": true
   },
   "outputs": [],
   "source": []
  }
 ],
 "metadata": {
  "kernelspec": {
   "display_name": "Python 2",
   "language": "python",
   "name": "python2"
  },
  "language_info": {
   "codemirror_mode": {
    "name": "ipython",
    "version": 2
   },
   "file_extension": ".py",
   "mimetype": "text/x-python",
   "name": "python",
   "nbconvert_exporter": "python",
   "pygments_lexer": "ipython2",
   "version": "2.7.13"
  }
 },
 "nbformat": 4,
 "nbformat_minor": 2
}
