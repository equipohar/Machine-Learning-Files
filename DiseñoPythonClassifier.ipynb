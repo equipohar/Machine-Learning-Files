{
 "cells": [
  {
   "cell_type": "markdown",
   "metadata": {
    "collapsed": true
   },
   "source": [
    "import csv\n",
    "import math\n",
    "import itertools\n",
    "import numpy as np\n",
    "%matplotlib inline\n",
    "import pickle\n",
    "import matplotlib.pyplot as plt\n",
    "from statsmodels import robust\n",
    "from sklearn import preprocessing\n",
    "from sklearn.preprocessing import StandardScaler\n",
    "from matplotlib.colors import ListedColormap\n",
    "from sklearn import neighbors, datasets\n",
    "from sklearn.neighbors import KNeighborsClassifier\n",
    "from sklearn.model_selection import train_test_split\n",
    "from sklearn.ensemble import RandomForestClassifier\n",
    "from sklearn.naive_bayes import GaussianNB"
   ]
  },
  {
   "cell_type": "code",
   "execution_count": 1,
   "metadata": {
    "collapsed": true
   },
   "outputs": [],
   "source": [
    "import csv\n",
    "import math\n",
    "import itertools\n",
    "import numpy as np\n",
    "%matplotlib inline\n",
    "import pickle\n",
    "import matplotlib.pyplot as plt\n",
    "from statsmodels import robust\n",
    "from sklearn import preprocessing\n",
    "from sklearn.preprocessing import StandardScaler\n",
    "from matplotlib.colors import ListedColormap\n",
    "from sklearn import neighbors, datasets\n",
    "from sklearn.neighbors import KNeighborsClassifier\n",
    "from sklearn.model_selection import train_test_split\n",
    "from sklearn.ensemble import RandomForestClassifier\n",
    "from sklearn.naive_bayes import GaussianNB"
   ]
  },
  {
   "cell_type": "code",
   "execution_count": 1,
   "metadata": {
    "collapsed": true
   },
   "outputs": [],
   "source": [
    "def unison_shuffled_copies(a, b):\n",
    "    assert len(a) == len(b)\n",
    "    p = np.random.permutation(len(a))\n",
    "    return a[p], b[p]"
   ]
  },
  {
   "cell_type": "code",
   "execution_count": 3,
   "metadata": {
    "collapsed": true
   },
   "outputs": [],
   "source": [
    "def csv_reader(file_obj):\n",
    "    reader = csv.reader(file_obj)\n",
    "    testArray=np.empty((0,4), float)\n",
    "    testArrayLabel=np.empty((0,1),float)\n",
    "    for row in reader:\n",
    "        testArray=np.vstack((testArray,[float(row[0]),float(row[1]),float(row[2]),float(row[3])]))\n",
    "        testArrayLabel=np.append(testArrayLabel,[float(row[4])])\n",
    "    return testArray,testArrayLabel"
   ]
  },
  {
   "cell_type": "code",
   "execution_count": 4,
   "metadata": {
    "collapsed": true
   },
   "outputs": [],
   "source": [
    "def generateFeatures(Temp):\n",
    "    f0=np.mean(Temp[:,0])\n",
    "    f1=np.mean(Temp[:,1])\n",
    "    f2=np.mean(Temp[:,2])\n",
    "    f3=np.std(Temp[:,0])\n",
    "    f4=np.std(Temp[:,1])\n",
    "    f5=np.std(Temp[:,2])\n",
    "    f6=np.var(Temp[:,0])\n",
    "    f7=np.var(Temp[:,1])\n",
    "    f8=np.var(Temp[:,2])\n",
    "    f9=robust.mad(Temp[:,0])\n",
    "    f10=robust.mad(Temp[:,1])\n",
    "    f11=robust.mad(Temp[:,2])\n",
    "    f12=abs(np.mean(Temp[:,0])-np.mean(Temp[:,1]))\n",
    "    f13=abs(np.mean(Temp[:,0])-np.mean(Temp[:,2]))\n",
    "    f14=abs(np.mean(Temp[:,1])-np.mean(Temp[:,2]))\n",
    "    return [f0,f1,f2,f3,f4,f5,f6,f7,f8,f9,f10,f11,f12,f13,f14]"
   ]
  },
  {
   "cell_type": "code",
   "execution_count": 5,
   "metadata": {
    "collapsed": true
   },
   "outputs": [],
   "source": [
    "\"\"\"Dictionaries are created and accumulated in CSV files.\"\"\"\n",
    "dictTrainData = {}\n",
    "dictTrainLabel = {}\n",
    "if __name__ == \"__main__\":\n",
    "    for i in range(1,17):   #Range del 1 al 7 dado que actualmente se encuentran 16 archivos CSV    \n",
    "        csv_path = str(i)+\".csv\"\n",
    "        with open(csv_path, \"rb\") as f_obj:\n",
    "            trainingData,trainingLabel=csv_reader(f_obj)\n",
    "            dictTrainData[i]=trainingData\n",
    "            dictTrainLabel[i]=trainingLabel\n",
    "\n",
    "\"\"\"dictionaries are converted into numpy vectors / arrays to be processed\"\"\"\n",
    "trainDataGroup=np.empty((0,4),float)\n",
    "trainLabelGroup=np.empty((0,1),int)\n",
    "\n",
    "for key in dictTrainData:\n",
    "    trainDataGroup=np.vstack((trainDataGroup,dictTrainData[key]))\n",
    "    trainLabelGroup=np.append(trainLabelGroup,dictTrainLabel[key])"
   ]
  },
  {
   "cell_type": "code",
   "execution_count": 6,
   "metadata": {},
   "outputs": [
    {
     "name": "stdout",
     "output_type": "stream",
     "text": [
      "[[  1.    -0.57   0.53  -1.03]\n",
      " [  1.    -0.57   0.54  -1.04]\n",
      " [  1.    -0.56   0.54  -1.03]\n",
      " ..., \n",
      " [ 16.    -0.35   0.22  -0.93]\n",
      " [ 16.    -0.45   0.13  -0.97]\n",
      " [ 16.    -0.35   0.2   -0.87]]\n",
      "68660\n"
     ]
    }
   ],
   "source": [
    "print (trainDataGroup)\n",
    "print len(trainDataGroup)"
   ]
  },
  {
   "cell_type": "code",
   "execution_count": 7,
   "metadata": {
    "collapsed": true
   },
   "outputs": [],
   "source": [
    "\"\"\"For the processing of the data, two things are required beforehand. \n",
    "1) Group the data in one-second intervals y 2) Group by activity\"\"\"\n",
    "\n",
    "ExactDataGroup=np.empty((0,3),float)\n",
    "ExactLabelGroup=np.empty((0,1),int)\n",
    "\n",
    "TempData=np.empty((0,3),float)\n",
    "TempLabel=np.empty((0,1),int)\n",
    "\n",
    "count=0\n",
    "\n",
    "for i in range(1,int(max(trainDataGroup[:,0]))+1):\n",
    "    for ii in range(0,len(trainDataGroup)):\n",
    "        if(trainDataGroup[ii,0]==i):\n",
    "            TempData=np.vstack((TempData,[trainDataGroup[ii,1],trainDataGroup[ii,2],trainDataGroup[ii,3]]))\n",
    "            TempLabel=np.append(TempLabel,trainLabelGroup[ii])\n",
    "            count=count+1\n",
    "            if (count==25):\n",
    "                ExactDataGroup=np.vstack((ExactDataGroup,TempData))\n",
    "                ExactLabelGroup=np.append(ExactLabelGroup,TempLabel)\n",
    "                TempData=np.empty((0,3),float)\n",
    "                TempLabel=np.empty((0,1),int)\n",
    "                count=0\n",
    "        else:\n",
    "            TempData=np.empty((0,3),float)\n",
    "            TempLabel=np.empty((0,1),int)\n",
    "            count=0\n",
    "            \n",
    "            "
   ]
  },
  {
   "cell_type": "code",
   "execution_count": 8,
   "metadata": {
    "collapsed": true
   },
   "outputs": [],
   "source": [
    "\"\"\"Para sacar los features. Se tienen 8== [Media Desviacion Varianza Entropia Kurtosis MAD Correlacion] per Axis and Distance\"\"\"\n",
    "features=np.empty((0,15),float)#Deberia ser (0,18)\n",
    "labels=np.empty((0,1),int)\n",
    "for i in range (0,(len(ExactDataGroup)/25)):\n",
    "    Temp=ExactDataGroup[25*(i):25*(i+1),:]\n",
    "    features=np.vstack((features, generateFeatures(Temp)))\n",
    "    labels=np.append(labels, ExactLabelGroup[i*25])"
   ]
  },
  {
   "cell_type": "code",
   "execution_count": 9,
   "metadata": {
    "collapsed": true
   },
   "outputs": [],
   "source": [
    "\"\"\"The feature and label vectors are randomly exchanged for the purpose of training and testing the classifier\"\"\"\n",
    "featuresShuffle,labelsShuffle = unison_shuffled_copies(features,labels)\n",
    "TrainFeatures,TestFeatures,TrainLabels,TestLabels=train_test_split(featuresShuffle,labelsShuffle,test_size=0.3)"
   ]
  },
  {
   "cell_type": "code",
   "execution_count": 16,
   "metadata": {},
   "outputs": [
    {
     "name": "stdout",
     "output_type": "stream",
     "text": [
      "1917\n"
     ]
    }
   ],
   "source": [
    "print(len(TrainFeatures))"
   ]
  },
  {
   "cell_type": "code",
   "execution_count": 11,
   "metadata": {
    "collapsed": true
   },
   "outputs": [],
   "source": [
    "# Random Forest \n",
    "\"\"\"Implementation of Random Forest and importance of each Feature\"\"\"\n",
    "FeaturesNames = ['0) mean x', '1) mean y', '2) mean z', '3) Standar deviation x','4) Standar deviation y',\n",
    "                 '5) Standar deviation z','6) Variance x', '7) Variance y','8) Variance z', '9) MAD x',\n",
    "                 '10) MAD y', '11) MAD z','12) mean(x-y)', '13) mean(x-z)', '14) mean (y-z)'];\n",
    "clf = RandomForestClassifier(n_estimators=100,min_samples_leaf=2)\n",
    "clf = clf.fit(TrainFeatures, TrainLabels)"
   ]
  },
  {
   "cell_type": "code",
   "execution_count": 18,
   "metadata": {},
   "outputs": [
    {
     "name": "stdout",
     "output_type": "stream",
     "text": [
      "[[134 127 159 ..., 151 112 136]\n",
      " [ 19  15  28 ...,  22   8  22]\n",
      " [  3   3   3 ...,   2   2   3]\n",
      " ..., \n",
      " [ 13  96  30 ...,  44  81  29]\n",
      " [  3   3   3 ...,   2   2   3]\n",
      " [ 66  50  11 ...,  26  38  79]]\n"
     ]
    }
   ],
   "source": [
    "#with open('RF.pickle','wb') as f:\n",
    "#    pickle.dump(clf,f)\n",
    "print(clf.apply(TestFeatures))"
   ]
  },
  {
   "cell_type": "code",
   "execution_count": 12,
   "metadata": {},
   "outputs": [
    {
     "name": "stdout",
     "output_type": "stream",
     "text": [
      "Accuracy on the training subset: 1.000\n",
      "Accuracy on the test subset: 0.979\n"
     ]
    },
    {
     "data": {
      "image/png": "[encoded data removed]",
      "text/plain": [
       "<matplotlib.figure.Figure at 0xd425f28>"
      ]
     },
     "metadata": {},
     "output_type": "display_data"
    },
    {
     "name": "stdout",
     "output_type": "stream",
     "text": [
      "Features ranking:\n",
      "0. feature 4 (0.119532)\n",
      "1. feature 7 (0.115031)\n",
      "2. feature 2 (0.104680)\n",
      "3. feature 0 (0.096608)\n",
      "4. feature 10 (0.075211)\n",
      "5. feature 9 (0.074245)\n",
      "6. feature 11 (0.068295)\n",
      "7. feature 12 (0.065845)\n",
      "8. feature 3 (0.052105)\n",
      "9. feature 6 (0.044790)\n",
      "10. feature 14 (0.043173)\n",
      "11. feature 5 (0.042148)\n",
      "12. feature 8 (0.039331)\n",
      "13. feature 13 (0.030515)\n",
      "14. feature 1 (0.028491)\n"
     ]
    }
   ],
   "source": [
    "\"Visualization of results\"\n",
    "print('Accuracy on the training subset: {:.3f}'.format(clf.score(TrainFeatures,TrainLabels)))\n",
    "print('Accuracy on the test subset: {:.3f}'.format(clf.score(TestFeatures,TestLabels)))\n",
    "n_features = featuresShuffle.shape[1]\n",
    "plt.barh(range(n_features), clf.feature_importances_, align ='center')\n",
    "plt.yticks(np.arange(n_features), FeaturesNames)\n",
    "plt.xlabel('Feature Importance')\n",
    "plt.ylabel('Features')\n",
    "plt.show()\n",
    "\n",
    "importances = clf.feature_importances_\n",
    "indices = np.argsort(importances)[::-1]\n",
    "print(\"Features ranking:\")\n",
    "\n",
    "for f in range(n_features):\n",
    "    print(\"%d. feature %d (%f)\" % (f, indices[f], importances[indices[f]]))"
   ]
  },
  {
   "cell_type": "code",
   "execution_count": null,
   "metadata": {
    "collapsed": true
   },
   "outputs": [],
   "source": [
    "#KNN classifier\n",
    "\"Create two lists for training and test accuracies\"\n",
    "training_accuracy = []\n",
    "test_accuracy = []\n",
    "\n",
    "\"Define a range of 1 to 50 (included) neighbors to be tested\"\n",
    "neighbors_settings = range(1,51)\n",
    "\n",
    "\"Loop with the KNN through the different number of neighbors to determine the most appropriate (best) and choose the one with the greatest test accuracy\"\n",
    "greatest_accuracy=0\n",
    "greatest_neighbors = 0\n",
    "for n_neighbors in neighbors_settings:\n",
    "    clf_2 = KNeighborsClassifier(n_neighbors=n_neighbors)\n",
    "    clf_2 = clf_2.fit(TrainFeatures, TrainLabels)\n",
    "    training_accuracy.append(clf_2.score(TrainFeatures, TrainLabels))\n",
    "    test = clf_2.score(TestFeatures,TestLabels)\n",
    "    test_accuracy.append(test)\n",
    "    if test > greatest_accuracy:\n",
    "        greatest_accuracy = test\n",
    "        greatest_neighbors = n_neighbors\n",
    "\n",
    "print('The number of neighbors for the best test accuracy: {:.0f}'.format(greatest_neighbors))\n",
    "print('The best test accuracy is: {:.4f}'.format(greatest_accuracy))\n",
    "\n",
    "\"Visualize results - to help with deciding which n_neigbors yields the best results (n_neighbors=50, in this case)\"\n",
    "plt.plot(neighbors_settings, training_accuracy, label='Accuracy of the training set')\n",
    "plt.plot(neighbors_settings, test_accuracy, label='Accuracy of the test set')\n",
    "plt.ylabel('Accuracy')\n",
    "plt.xlabel('Number of Neighbors')\n",
    "plt.legend()\n",
    "\n",
    "\n",
    "\n",
    "\n"
   ]
  },
  {
   "cell_type": "code",
   "execution_count": null,
   "metadata": {
    "collapsed": true
   },
   "outputs": [],
   "source": [
    "print(greatest_accuracy)\n",
    "for row in features:\n",
    "    print(row)"
   ]
  },
  {
   "cell_type": "code",
   "execution_count": null,
   "metadata": {
    "collapsed": true
   },
   "outputs": [],
   "source": [
    "# Naive Bayes\n",
    "clf_3 = GaussianNB()\n",
    "clf_3 = clf_3.fit(TrainFeatures, TrainLabels)\n",
    "GaussianNB(priors=None)\n",
    "print('Accuracy on the training subset: {:.3f}'.format(clf_3.score(TrainFeatures,TrainLabels)))\n",
    "print('Accuracy on the test subset: {:.3f}'.format(clf_3.score(TestFeatures,TestLabels)))\n"
   ]
  },
  {
   "cell_type": "code",
   "execution_count": null,
   "metadata": {
    "collapsed": true
   },
   "outputs": [],
   "source": []
  }
 ],
 "metadata": {
  "kernelspec": {
   "display_name": "Python 2",
   "language": "python",
   "name": "python2"
  },
  "language_info": {
   "codemirror_mode": {
    "name": "ipython",
    "version": 2
   },
   "file_extension": ".py",
   "mimetype": "text/x-python",
   "name": "python",
   "nbconvert_exporter": "python",
   "pygments_lexer": "ipython2",
   "version": "2.7.13"
  }
 },
 "nbformat": 4,
 "nbformat_minor": 2
}
