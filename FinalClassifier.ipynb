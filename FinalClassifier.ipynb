{
 "cells": [
  {
   "cell_type": "code",
   "execution_count": 1,
   "metadata": {
    "collapsed": true
   },
   "outputs": [],
   "source": [
    "import csv\n",
    "import math\n",
    "import itertools\n",
    "import numpy as np\n",
    "import matplotlib.pyplot as plt\n",
    "import pickle\n",
    "from sklearn import clone\n",
    "from pylab import rcParams\n",
    "%matplotlib inline \n",
    "from matplotlib.colors import ListedColormap\n",
    "from sklearn import neighbors, datasets\n",
    "from sklearn.neighbors import KNeighborsClassifier\n",
    "from sklearn.model_selection import train_test_split\n",
    "from sklearn.ensemble import RandomForestClassifier\n",
    "from sklearn.naive_bayes import GaussianNB\n",
    "from sklearn import preprocessing\n",
    "from statsmodels import robust\n",
    "from sklearn.metrics import confusion_matrix\n",
    "from scipy.fftpack import fft, ifft\n",
    "from sklearn.tree import DecisionTreeClassifier\n",
    "from sklearn import svm, datasets\n",
    "from sklearn.svm import SVR\n",
    "from scipy.stats import kurtosis"
   ]
  },
  {
   "cell_type": "code",
   "execution_count": 2,
   "metadata": {
    "collapsed": true
   },
   "outputs": [],
   "source": [
    "def unison_shuffled_copies(a, b):\n",
    "    assert len(a) == len(b)\n",
    "    p = np.random.permutation(len(a))\n",
    "    return a[p], b[p] "
   ]
  },
  {
   "cell_type": "code",
   "execution_count": 3,
   "metadata": {
    "collapsed": true
   },
   "outputs": [],
   "source": [
    "def csv_reader(file_obj):\n",
    "    reader = csv.reader(file_obj)\n",
    "    testArray=np.empty((0,4), float)\n",
    "    testArrayLabel=np.empty((0,1),float)\n",
    "    for row in reader:\n",
    "        testArray=np.vstack((testArray,[float(row[0]),float(row[1]),float(row[2]),float(row[3])]))\n",
    "        testArrayLabel=np.append(testArrayLabel,[float(row[4])])\n",
    "    return testArray,testArrayLabel"
   ]
  },
  {
   "cell_type": "code",
   "execution_count": 4,
   "metadata": {
    "collapsed": true
   },
   "outputs": [],
   "source": [
    "\"Features\"\n",
    "def generateFeatures(Temp):\n",
    "    f0=np.mean(Temp[:,0])\n",
    "    f1=np.mean(Temp[:,1])\n",
    "    f2=np.mean(Temp[:,2])\n",
    "    f3=np.std(Temp[:,0])\n",
    "    f4=np.std(Temp[:,1])\n",
    "    f5=np.std(Temp[:,2])\n",
    "    f6=np.var(Temp[:,0])\n",
    "    f7=np.var(Temp[:,1])\n",
    "    f8=np.var(Temp[:,2])\n",
    "    f9=robust.mad(Temp[:,0])\n",
    "    f10=robust.mad(Temp[:,1])\n",
    "    f11=robust.mad(Temp[:,2])\n",
    "    f12=abs(np.mean(Temp[:,0])-np.mean(Temp[:,1]))\n",
    "    f13=abs(np.mean(Temp[:,0])-np.mean(Temp[:,2]))\n",
    "    f14=abs(np.mean(Temp[:,1])-np.mean(Temp[:,2]))\n",
    "    f15=kurtosis(Temp[:,0])\n",
    "    f16=kurtosis(Temp[:,1])\n",
    "    f17=kurtosis(Temp[:,2])\n",
    "    return [f0,f1,f2,f3,f4,f5,f6,f7,f8,f9,f10,f11,f12,f13,f14,f15,f16,f17]"
   ]
  },
  {
   "cell_type": "code",
   "execution_count": 5,
   "metadata": {
    "collapsed": true
   },
   "outputs": [],
   "source": [
    "\"\"\"Dictionaries are created and accumulated in CSV files.\"\"\"\n",
    "dictTrainData = {}\n",
    "dictTrainLabel = {}\n",
    "if __name__ == \"__main__\":\n",
    "    for i in range(1,55):   #Range del 1 al 7 dado que actualmente se encuentran 16 archivos CSV    \n",
    "        csv_path = str(i)+\".csv\"\n",
    "        with open(csv_path, \"rb\") as f_obj:\n",
    "            trainingData,trainingLabel=csv_reader(f_obj)\n",
    "            dictTrainData[i]=trainingData\n",
    "            dictTrainLabel[i]=trainingLabel\n",
    "\n",
    "\"\"\"dictionaries are converted into numpy vectors / arrays to be processed\"\"\"\n",
    "trainDataGroup=np.empty((0,4),float)\n",
    "trainLabelGroup=np.empty((0,1),int)\n",
    "\n",
    "for key in dictTrainData:\n",
    "    trainDataGroup=np.vstack((trainDataGroup,dictTrainData[key]))\n",
    "    trainLabelGroup=np.append(trainLabelGroup,dictTrainLabel[key])"
   ]
  },
  {
   "cell_type": "code",
   "execution_count": 6,
   "metadata": {
    "collapsed": true
   },
   "outputs": [],
   "source": [
    "\"\"\"For the processing of the data, two things are required beforehand. \n",
    "1) Group the data in one-second intervals y 2) Group by activity\"\"\"\n",
    "\n",
    "ExactDataGroup=np.empty((0,3),float)\n",
    "ExactLabelGroup=np.empty((0,1),int)\n",
    "\n",
    "TempData=np.empty((0,3),float)\n",
    "TempLabel=np.empty((0,1),int)\n",
    "\n",
    "count=0\n",
    "\n",
    "for i in range(1,int(max(trainDataGroup[:,0]))+1):\n",
    "    for ii in range(0,len(trainDataGroup)):\n",
    "        if(trainDataGroup[ii,0]==i):\n",
    "            TempData=np.vstack((TempData,[trainDataGroup[ii,1],trainDataGroup[ii,2],trainDataGroup[ii,3]]))\n",
    "            TempLabel=np.append(TempLabel,trainLabelGroup[ii])\n",
    "            count=count+1\n",
    "            if (count==25):\n",
    "                ExactDataGroup=np.vstack((ExactDataGroup,TempData))\n",
    "                ExactLabelGroup=np.append(ExactLabelGroup,TempLabel)\n",
    "                TempData=np.empty((0,3),float)\n",
    "                TempLabel=np.empty((0,1),int)\n",
    "                count=0\n",
    "        else:\n",
    "            TempData=np.empty((0,3),float)\n",
    "            TempLabel=np.empty((0,1),int)\n",
    "            count=0\n",
    "            \n",
    "            "
   ]
  },
  {
   "cell_type": "code",
   "execution_count": 7,
   "metadata": {
    "collapsed": true
   },
   "outputs": [],
   "source": [
    "\"\"\"Get the value of each feature.they are used in total 6 features per Axis=[Mean standard deviation Variace MAD Distance kurtosis]\"\"\"\n",
    "features=np.empty((0,18),float)\n",
    "labels=np.empty((0,1),int)\n",
    "for i in range (0,(len(ExactDataGroup)/25)):\n",
    "    Temp=ExactDataGroup[25*(i):25*(i+1),:]\n",
    "    features=np.vstack((features, generateFeatures(Temp)))\n",
    "    labels=np.append(labels, ExactLabelGroup[i*25])\n",
    "    "
   ]
  },
  {
   "cell_type": "code",
   "execution_count": 8,
   "metadata": {
    "collapsed": true
   },
   "outputs": [],
   "source": [
    "\"\"\"The feature and label vectors are randomly exchanged for the purpose of training and testing the classifier\"\"\"\n",
    "featuresShuffle,labelsShuffle = unison_shuffled_copies(features,labels)\n",
    "TrainFeatures,TestFeatures,TrainLabels,TestLabels=train_test_split(featuresShuffle,labelsShuffle,test_size=0.3)"
   ]
  },
  {
   "cell_type": "code",
   "execution_count": 24,
   "metadata": {
    "collapsed": true
   },
   "outputs": [],
   "source": [
    "# Random Forest \n",
    "\"\"\"Random Forest and importance of each Feature, number of trees= 100\"\"\"\n",
    "\n",
    "FeaturesNames = ['0) mean x', '1) mean y', '2) mean z', '3) Standard deviation x','4) Standard deviation y',\n",
    "                 '5) Standard deviation z','6) Variance x', '7) Variance y','8) Variance z', '9) MAD x',\n",
    "                 '10) MAD y', '11) MAD z','12) mean(x-y)', '13) mean(x-z)', '14) mean (y-z)','15) kurtosis x',\n",
    "                '16) kurtosis y','17) kurtosis z'];\n",
    "clf = RandomForestClassifier(n_estimators=100,min_samples_leaf=2)\n",
    "clf = clf.fit(TrainFeatures, TrainLabels)"
   ]
  },
  {
   "cell_type": "code",
   "execution_count": 25,
   "metadata": {},
   "outputs": [
    {
     "name": "stdout",
     "output_type": "stream",
     "text": [
      "Accuracy on the training subset: 0.997\n",
      "Accuracy on the test subset: 0.951\n"
     ]
    },
    {
     "data": {
      "image/png": "[encoded data removed]",
      "text/plain": [
       "<matplotlib.figure.Figure at 0xdce9f98>"
      ]
     },
     "metadata": {},
     "output_type": "display_data"
    },
    {
     "name": "stdout",
     "output_type": "stream",
     "text": [
      "Features ranking:\n",
      "0. feature 4 (0.119285)\n",
      "1. feature 7 (0.111633)\n",
      "2. feature 14 (0.082316)\n",
      "3. feature 0 (0.079559)\n",
      "4. feature 10 (0.068622)\n",
      "5. feature 2 (0.067807)\n",
      "6. feature 9 (0.059555)\n",
      "7. feature 13 (0.059417)\n",
      "8. feature 12 (0.056601)\n",
      "9. feature 6 (0.055085)\n",
      "10. feature 5 (0.050025)\n",
      "11. feature 3 (0.045643)\n",
      "12. feature 8 (0.042707)\n",
      "13. feature 1 (0.034194)\n",
      "14. feature 11 (0.033547)\n",
      "15. feature 17 (0.013888)\n",
      "16. feature 15 (0.010659)\n",
      "17. feature 16 (0.009458)\n"
     ]
    }
   ],
   "source": [
    "\"Visualize the results\"\n",
    "print('Accuracy on the training subset: {:.3f}'.format(clf.score(TrainFeatures,TrainLabels)))\n",
    "print('Accuracy on the test subset: {:.3f}'.format(clf.score(TestFeatures,TestLabels)))\n",
    "n_features = featuresShuffle.shape[1]\n",
    "plt.barh(range(n_features), clf.feature_importances_, align ='center')\n",
    "plt.yticks(np.arange(n_features), FeaturesNames)\n",
    "plt.xlabel('Feature Importance')\n",
    "plt.ylabel('Features')\n",
    "plt.show()\n",
    "\n",
    "importances = clf.feature_importances_\n",
    "indices = np.argsort(importances)[::-1]\n",
    "print(\"Features ranking:\")\n",
    "\n",
    "for f in range(n_features):\n",
    "    print(\"%d. feature %d (%f)\" % (f, indices[f], importances[indices[f]]))"
   ]
  },
  {
   "cell_type": "code",
   "execution_count": 26,
   "metadata": {},
   "outputs": [
    {
     "name": "stdout",
     "output_type": "stream",
     "text": [
      "The number of neighbors for the best test accuracy: 1\n",
      "The best test accuracy is: 0.7263\n"
     ]
    },
    {
     "data": {
      "text/plain": [
       "<matplotlib.legend.Legend at 0xfebef28>"
      ]
     },
     "execution_count": 26,
     "metadata": {},
     "output_type": "execute_result"
    },
    {
     "data": {
      "image/png": "[encoded data removed]",
      "text/plain": [
       "<matplotlib.figure.Figure at 0xfb38518>"
      ]
     },
     "metadata": {},
     "output_type": "display_data"
    }
   ],
   "source": [
    "#KNN classifier\n",
    "\"Create two lists for training and test accuracies\"\n",
    "training_accuracy = []\n",
    "test_accuracy = []\n",
    "\n",
    "\"Define a range of 1 to 50 (included) neighbors to be tested\"\n",
    "neighbors_settings = range(1,51)\n",
    "\n",
    "\"Loop with the KNN through the different number of neighbors to determine the most appropriate (best) and choose the one with the greatest test accuracy\"\n",
    "greatest_accuracy=0\n",
    "greatest_neighbors = 0\n",
    "for n_neighbors in neighbors_settings:\n",
    "    clf_2_test = KNeighborsClassifier(n_neighbors=n_neighbors)\n",
    "    clf_2_test = clf_2_test.fit(TrainFeatures, TrainLabels)\n",
    "    training_accuracy.append(clf_2_test.score(TrainFeatures, TrainLabels))\n",
    "    test = clf_2_test.score(TestFeatures,TestLabels)\n",
    "    test_accuracy.append(test)\n",
    "    if test > greatest_accuracy:\n",
    "        greatest_accuracy = test\n",
    "        greatest_neighbors = n_neighbors\n",
    "\n",
    "clf_2 = KNeighborsClassifier(n_neighbors=greatest_neighbors)\n",
    "clf_2 = clf_2.fit(TrainFeatures, TrainLabels)\n",
    "\n",
    "print('The number of neighbors for the best test accuracy: {:.0f}'.format(greatest_neighbors))\n",
    "print('The best test accuracy is: {:.4f}'.format(greatest_accuracy))\n",
    "\n",
    "\"Visualize results - to help with deciding which n_neigbors yields the best results (n_neighbors=50, in this case)\"\n",
    "plt.plot(neighbors_settings, training_accuracy, label='Accuracy of the training set')\n",
    "plt.plot(neighbors_settings, test_accuracy, label='Accuracy of the test set')\n",
    "plt.ylabel('Accuracy')\n",
    "plt.xlabel('Number of Neighbors')\n",
    "plt.legend()\n",
    "\n",
    "\n",
    "\n",
    "\n"
   ]
  },
  {
   "cell_type": "code",
   "execution_count": 27,
   "metadata": {},
   "outputs": [
    {
     "name": "stdout",
     "output_type": "stream",
     "text": [
      "Accuracy on the training subset: 0.698\n",
      "Accuracy on the test subset: 0.700\n"
     ]
    }
   ],
   "source": [
    "# Naive Bayes\n",
    "clf_3 = GaussianNB()\n",
    "clf_3 = clf_3.fit(TrainFeatures, TrainLabels)\n",
    "GaussianNB(priors=None)\n",
    "print('Accuracy on the training subset: {:.3f}'.format(clf_3.score(TrainFeatures,TrainLabels)))\n",
    "print('Accuracy on the test subset: {:.3f}'.format(clf_3.score(TestFeatures,TestLabels)))\n"
   ]
  },
  {
   "cell_type": "code",
   "execution_count": null,
   "metadata": {
    "collapsed": true
   },
   "outputs": [],
   "source": []
  }
 ],
 "metadata": {
  "kernelspec": {
   "display_name": "Python 2",
   "language": "python",
   "name": "python2"
  },
  "language_info": {
   "codemirror_mode": {
    "name": "ipython",
    "version": 2
   },
   "file_extension": ".py",
   "mimetype": "text/x-python",
   "name": "python",
   "nbconvert_exporter": "python",
   "pygments_lexer": "ipython2",
   "version": "2.7.13"
  }
 },
 "nbformat": 4,
 "nbformat_minor": 2
}
