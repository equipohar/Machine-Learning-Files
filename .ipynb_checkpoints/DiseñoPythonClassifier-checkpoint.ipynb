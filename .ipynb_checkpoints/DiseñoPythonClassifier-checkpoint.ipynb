{
 "cells": [
  {
   "cell_type": "code",
   "execution_count": 44,
   "metadata": {},
   "outputs": [],
   "source": [
    "import csv\n",
    "import math\n",
    "import psycopg2\n",
    "import itertools\n",
    "import numpy as np\n",
    "import matplotlib.pyplot as plt\n",
    "from matplotlib.colors import ListedColormap\n",
    "from sklearn import neighbors, datasets\n",
    "from sklearn.model_selection import train_test_split\n",
    "from sklearn.ensemble import RandomForestClassifier\n",
    "from sklearn import preprocessing\n",
    "from statsmodels import robust"
   ]
  },
  {
   "cell_type": "code",
   "execution_count": 2,
   "metadata": {
    "collapsed": true
   },
   "outputs": [],
   "source": [
    "def unison_shuffled_copies(a, b):\n",
    "    assert len(a) == len(b)\n",
    "    p = np.random.permutation(len(a))\n",
    "    return a[p], b[p]"
   ]
  },
  {
   "cell_type": "code",
   "execution_count": 3,
   "metadata": {
    "collapsed": true
   },
   "outputs": [],
   "source": [
    "def csv_reader(file_obj):\n",
    "    reader = csv.reader(file_obj)\n",
    "    testArray=np.empty((0,4), float)\n",
    "    testArrayLabel=np.empty((0,1),float)\n",
    "    for row in reader:\n",
    "        testArray=np.vstack((testArray,[float(row[0]),float(row[1]),float(row[2]),float(row[3])]))\n",
    "        testArrayLabel=np.append(testArrayLabel,[float(row[4])])\n",
    "    return testArray,testArrayLabel"
   ]
  },
  {
   "cell_type": "code",
   "execution_count": 4,
   "metadata": {
    "collapsed": true
   },
   "outputs": [],
   "source": [
    "def generateFeatures(Temp):\n",
    "    f0=np.mean(Temp[:,0])\n",
    "    f1=np.mean(Temp[:,1])\n",
    "    f2=np.mean(Temp[:,2])\n",
    "    f3=np.std(Temp[:,0])\n",
    "    f4=np.std(Temp[:,1])\n",
    "    f5=np.std(Temp[:,2])\n",
    "    f6=np.var(Temp[:,0])\n",
    "    f7=np.var(Temp[:,1])\n",
    "    f8=np.var(Temp[:,2])\n",
    "    f9=robust.mad(Temp[:,0])\n",
    "    f10=robust.mad(Temp[:,1])\n",
    "    f11=robust.mad(Temp[:,2])\n",
    "    f12=abs(np.mean(Temp[:,0])-np.mean(Temp[:,1]))\n",
    "    f13=abs(np.mean(Temp[:,0])-np.mean(Temp[:,2]))\n",
    "    f14=abs(np.mean(Temp[:,1])-np.mean(Temp[:,2]))\n",
    "    return [f0,f1,f2,f3,f4,f5,f6,f7,f8,f9,f10,f11,f12,f13,f14]"
   ]
  },
  {
   "cell_type": "code",
   "execution_count": 5,
   "metadata": {
    "collapsed": true
   },
   "outputs": [],
   "source": [
    "\"\"\"Se crea diccionarios en el cual se acumulan los archivos csv\"\"\"\n",
    "dictTrainData = {}\n",
    "dictTrainLabel = {}\n",
    "if __name__ == \"__main__\":\n",
    "    for i in range(1,7):   #Range del 1 al 7 dado que actualmente se encuentran 6 archivos CSV    \n",
    "        csv_path = str(i)+\".csv\"\n",
    "        with open(csv_path, \"rb\") as f_obj:\n",
    "            trainingData,trainingLabel=csv_reader(f_obj)\n",
    "            dictTrainData[i]=trainingData\n",
    "            dictTrainLabel[i]=trainingLabel\n",
    "\n",
    "\"\"\"Se convierten los diccionarios en vectores/matrices de numpy para ser procesado\"\"\"\n",
    "trainDataGroup=np.empty((0,4),float)\n",
    "trainLabelGroup=np.empty((0,1),int)\n",
    "\n",
    "for key in dictTrainData:\n",
    "    trainDataGroup=np.vstack((trainDataGroup,dictTrainData[key]))\n",
    "    trainLabelGroup=np.append(trainLabelGroup,dictTrainLabel[key])"
   ]
  },
  {
   "cell_type": "code",
   "execution_count": 6,
   "metadata": {
    "collapsed": true
   },
   "outputs": [],
   "source": [
    "\"\"\"Para el procesamiento de los datos se requieren de ante mano 2 cosas. \n",
    "1) Agrupar intervalos de 1 segundo y 2) Agrupar por Actividad\"\"\"\n",
    "\n",
    "ExactDataGroup=np.empty((0,3),float)\n",
    "ExactLabelGroup=np.empty((0,1),int)\n",
    "\n",
    "TempData=np.empty((0,3),float)\n",
    "TempLabel=np.empty((0,1),int)\n",
    "\n",
    "count=0\n",
    "\n",
    "for i in range(1,int(max(trainDataGroup[:,0]))+1):\n",
    "    for ii in range(0,len(trainDataGroup)):\n",
    "        if(trainDataGroup[ii,0]==i):\n",
    "            TempData=np.vstack((TempData,[trainDataGroup[ii,1],trainDataGroup[ii,2],trainDataGroup[ii,3]]))\n",
    "            TempLabel=np.append(TempLabel,trainLabelGroup[ii])\n",
    "            count=count+1\n",
    "            if (count==25):\n",
    "                ExactDataGroup=np.vstack((ExactDataGroup,TempData))\n",
    "                ExactLabelGroup=np.append(ExactLabelGroup,TempLabel)\n",
    "                TempData=np.empty((0,3),float)\n",
    "                TempLabel=np.empty((0,1),int)\n",
    "                count=0\n",
    "        else:\n",
    "            TempData=np.empty((0,3),float)\n",
    "            TempLabel=np.empty((0,1),int)\n",
    "            count=0\n",
    "            \n",
    "            "
   ]
  },
  {
   "cell_type": "code",
   "execution_count": 18,
   "metadata": {},
   "outputs": [],
   "source": [
    "\"\"\"Para sacar los features. Se tienen 8== [Media Desviacion Varianza Entropia Kurtosis MAD Correlacion] per Axis and Distance\"\"\"\n",
    "features=np.empty((0,15),float)#Deberia ser (0,18)\n",
    "labels=np.empty((0,1),int)\n",
    "for i in range (0,(len(ExactDataGroup)/25)):\n",
    "    Temp=ExactDataGroup[25*(i):25*(i+1),:]\n",
    "    features=np.vstack((features, generateFeatures(Temp)))\n",
    "    labels=np.append(labels, ExactLabelGroup[i*25])\n",
    "    "
   ]
  },
  {
   "cell_type": "code",
   "execution_count": 28,
   "metadata": {},
   "outputs": [],
   "source": [
    "\"\"\"Se permutan aleatoriamente los vectores de features y labels con proposito de entrenar y probar el clasificador\"\"\"\n",
    "featuresShuffle,labelsShuffle = unison_shuffled_copies(features,labels)"
   ]
  },
  {
   "cell_type": "code",
   "execution_count": 36,
   "metadata": {},
   "outputs": [],
   "source": [
    "TrainFeatures,TestFeatures,TrainLabels,TestLabels=train_test_split(featuresShuffle,labelsShuffle,test_size=0.3)"
   ]
  },
  {
   "cell_type": "code",
   "execution_count": 37,
   "metadata": {},
   "outputs": [
    {
     "name": "stdout",
     "output_type": "stream",
     "text": [
      "759\n",
      "326\n",
      "759\n",
      "326\n"
     ]
    }
   ],
   "source": [
    "print(len(TrainFeatures))\n",
    "print(len(TestFeatures))\n",
    "print(len(TrainLabels))\n",
    "print(len(TestLabels))"
   ]
  },
  {
   "cell_type": "code",
   "execution_count": 49,
   "metadata": {},
   "outputs": [],
   "source": [
    "clf = RandomForestClassifier(n_estimators=1)\n",
    "clf = clf.fit(TrainFeatures, TrainLabels)"
   ]
  },
  {
   "cell_type": "code",
   "execution_count": 51,
   "metadata": {},
   "outputs": [
    {
     "name": "stdout",
     "output_type": "stream",
     "text": [
      "[ 2.  2.  1.  2.  1.  2.  2.  1.  2.  2.  2.  1.  2.  2.  1.  1.  2.  2.\n",
      "  2.  2.  2.  1.  1.  1.  1.  1.  1.  1.  1.  2.  1.  2.  2.  1.  2.  1.\n",
      "  2.  1.  1.  2.  2.  1.  2.  2.  2.  1.  2.  1.  1.  1.  1.  1.  2.  2.\n",
      "  1.  1.  2.  2.  2.  1.  2.  2.  1.  2.  1.  2.  1.  2.  2.  2.  2.  2.\n",
      "  2.  2.  1.  2.  1.  2.  1.  1.  2.  2.  2.  2.  2.  1.  1.  2.  1.  2.\n",
      "  1.  2.  2.  1.  2.  2.  1.  2.  2.  2.  2.  2.  1.  1.  2.  1.  1.  1.\n",
      "  2.  2.  1.  1.  1.  2.  2.  2.  2.  2.  2.  2.  1.  1.  1.  2.  1.  1.\n",
      "  2.  1.  1.  1.  2.  2.  1.  2.  2.  2.  2.  1.  2.  1.  1.  2.  2.  1.\n",
      "  2.  1.  1.  2.  2.  1.  2.  1.  1.  1.  2.  1.  2.  1.  1.  2.  1.  2.\n",
      "  2.  1.  2.  2.  2.  1.  2.  1.  2.  1.  1.  1.  2.  2.  1.  1.  1.  2.\n",
      "  1.  2.  1.  2.  2.  1.  1.  1.  2.  2.  2.  1.  1.  2.  2.  1.  1.  2.\n",
      "  1.  1.  2.  1.  2.  2.  2.  2.  1.  2.  2.  2.  2.  2.  1.  2.  2.  1.\n",
      "  2.  2.  1.  1.  2.  2.  1.  1.  1.  2.  2.  2.  2.  1.  2.  1.  2.  2.\n",
      "  1.  2.  2.  1.  1.  2.  1.  2.  1.  1.  2.  2.  1.  1.  1.  2.  2.  2.\n",
      "  1.  2.  1.  2.  2.  2.  1.  1.  1.  1.  2.  2.  1.  1.  1.  2.  1.  1.\n",
      "  2.  2.  1.  2.  2.  1.  2.  2.  1.  1.  1.  2.  2.  2.  2.  1.  2.  2.\n",
      "  2.  2.  1.  1.  1.  2.  2.  2.  1.  1.  2.  1.  2.  2.  2.  1.  1.  1.\n",
      "  1.  1.  2.  2.  1.  1.  1.  2.  1.  1.  1.  1.  2.  1.  1.  2.  1.  2.\n",
      "  2.  1.]\n"
     ]
    }
   ],
   "source": [
    "print(clf.predict(TestFeatures))"
   ]
  },
  {
   "cell_type": "code",
   "execution_count": null,
   "metadata": {
    "collapsed": true
   },
   "outputs": [],
   "source": []
  }
 ],
 "metadata": {
  "kernelspec": {
   "display_name": "Python 2",
   "language": "python",
   "name": "python2"
  },
  "language_info": {
   "codemirror_mode": {
    "name": "ipython",
    "version": 2
   },
   "file_extension": ".py",
   "mimetype": "text/x-python",
   "name": "python",
   "nbconvert_exporter": "python",
   "pygments_lexer": "ipython2",
   "version": "2.7.13"
  }
 },
 "nbformat": 4,
 "nbformat_minor": 2
}
